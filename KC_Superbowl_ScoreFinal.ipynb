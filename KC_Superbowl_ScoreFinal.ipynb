{
 "cells": [
  {
   "cell_type": "markdown",
   "metadata": {},
   "source": [
    "# Kansas City Super Bowl Score Prediction"
   ]
  },
  {
   "cell_type": "markdown",
   "metadata": {},
   "source": [
    "#### Methodology:  Use feature selection to identify most important variables when predicting Kansas City's average score for two seperate datasets, 2019 season and last 10 seasons.  Then predict each of those \"important features\" using linear regression models subject to 49ers defensive averages from 2019.  Then, plug in the projected feature scores into two linear regression models projecting Kansas City's score given only 2019 season and then projecting Kansas City's score given the last 10 seasons. Finally take a weighted average of the two putting more importance on the 2019 season to generate a projected score total for the superbowl."
   ]
  },
  {
   "cell_type": "code",
   "execution_count": 305,
   "metadata": {},
   "outputs": [],
   "source": [
    "#importing Packages to use\n",
    "import numpy as np\n",
    "import pandas as pd\n",
    "from sklearn import datasets, linear_model\n",
    "from sklearn.linear_model import LinearRegression\n"
   ]
  },
  {
   "cell_type": "code",
   "execution_count": 415,
   "metadata": {},
   "outputs": [],
   "source": [
    "#importing data to use\n",
    "data = pd.read_csv('/Users/jt/Downloads/KCRS.csv')\n",
    "data3=pd.read_csv('/Users/jt/Downloads/KCRSStandardized.csv')\n",
    "data4=pd.read_csv('/Users/jt/Downloads/KCRSfinal.csv')\n",
    "data3=data3.dropna()\n",
    "data4=data4.iloc[:,0:47]"
   ]
  },
  {
   "cell_type": "code",
   "execution_count": 429,
   "metadata": {},
   "outputs": [
    {
     "data": {
      "text/plain": [
       "{'1stDDef',\n",
       " '1stDDefP',\n",
       " '1stDDefr',\n",
       " 'AttDef',\n",
       " 'IntDef',\n",
       " 'NY/ADef',\n",
       " 'OAtt',\n",
       " 'OYds',\n",
       " 'Pass NY/A',\n",
       " 'PassYdsDef',\n",
       " 'PenYdsDef',\n",
       " 'Sc%Def',\n",
       " 'TO%Def',\n",
       " 'Y/PDef',\n",
       " 'pntYds'}"
      ]
     },
     "execution_count": 429,
     "metadata": {},
     "output_type": "execute_result"
    }
   ],
   "source": [
    "#Collinearity in Data\n",
    "correlated_features = set()\n",
    "correlation_matrix = data4.drop('Tm', axis=1).corr()\n",
    "\n",
    "for i in range(len(correlation_matrix.columns)):\n",
    "    for j in range(i):\n",
    "        if abs(correlation_matrix.iloc[i, j]) > 0.8:\n",
    "            colname = correlation_matrix.columns[i]\n",
    "            correlated_features.add(colname)\n",
    "\n",
    "correlated_features"
   ]
  },
  {
   "cell_type": "markdown",
   "metadata": {},
   "source": [
    "# Most Important Features Given 10 years of Records"
   ]
  },
  {
   "cell_type": "code",
   "execution_count": 336,
   "metadata": {},
   "outputs": [
    {
     "data": {
      "text/plain": [
       "Tm           1.000000\n",
       "OCmp         0.353253\n",
       "PassYds      0.558114\n",
       "Pass Y/A     0.613573\n",
       "Pass NY/A    0.639146\n",
       "Cmp%         0.482553\n",
       "qBRate       0.734852\n",
       "Pnt          0.435199\n",
       "pntYds       0.452020\n",
       "Name: Tm, dtype: float64"
      ]
     },
     "execution_count": 336,
     "metadata": {},
     "output_type": "execute_result"
    }
   ],
   "source": [
    "#All Records Model\n",
    "corr = data.corr()\n",
    "corr.head()\n",
    "#Correlation with output variable\n",
    "cor_target = abs(corr[\"Tm\"])\n",
    "#Selecting highly correlated features\n",
    "relevant_features = cor_target[cor_target>0.35]\n",
    "relevant_features"
   ]
  },
  {
   "cell_type": "markdown",
   "metadata": {},
   "source": [
    "## Most Important Features Predicting Kansas City's Score Given 10 years of Records are Pass Yards/Attempt, QBR, Comp% and Punts"
   ]
  },
  {
   "cell_type": "markdown",
   "metadata": {},
   "source": [
    "## 10 Year Score Regression Equation "
   ]
  },
  {
   "cell_type": "code",
   "execution_count": 337,
   "metadata": {},
   "outputs": [],
   "source": [
    "#Most Important Features Predicting score Given All records\n",
    "X=data[['Pass NY/A','qBRate','Cmp%','Pnt']]\n",
    "y=data[['Tm']]\n",
    "\n",
    "\n",
    "lm = linear_model.LinearRegression()\n",
    "model = lm.fit(X,y)\n",
    "\n"
   ]
  },
  {
   "cell_type": "code",
   "execution_count": 338,
   "metadata": {},
   "outputs": [
    {
     "name": "stdout",
     "output_type": "stream",
     "text": [
      "Score: 0.5788556786336514\n"
     ]
    }
   ],
   "source": [
    "print('Score:', model.score(X, y))"
   ]
  },
  {
   "cell_type": "code",
   "execution_count": 328,
   "metadata": {},
   "outputs": [
    {
     "name": "stdout",
     "output_type": "stream",
     "text": [
      "intercept: [7.49767352]\n",
      "KC Score Coef: [[ 0.76444273  0.2649305  -0.13694137 -0.80508179]]\n"
     ]
    }
   ],
   "source": [
    "#Regression for all records\n",
    "print('intercept:', model.intercept_)\n",
    "\n",
    "print('KC Score Coef:', model.coef_)"
   ]
  },
  {
   "cell_type": "markdown",
   "metadata": {},
   "source": [
    "## Predicting Pass NY/A"
   ]
  },
  {
   "cell_type": "code",
   "execution_count": 421,
   "metadata": {},
   "outputs": [
    {
     "data": {
      "text/plain": [
       "Tm             0.645039\n",
       "OCmp           0.328995\n",
       "PassYds        0.760972\n",
       "Sk taken       0.462355\n",
       "OYds           0.422129\n",
       "Pass Y/A       0.949785\n",
       "Pass NY/A      1.000000\n",
       "Cmp%           0.565369\n",
       "qBRate         0.733114\n",
       "Pnt            0.594274\n",
       "pntYds         0.602594\n",
       "3DConv         0.251544\n",
       "3DAtt          0.274648\n",
       "TotalYdsDef    0.297717\n",
       "Y/PDef         0.368874\n",
       "1stDDef        0.263512\n",
       "PassYdsDef     0.303551\n",
       "NY/ADef        0.351942\n",
       "Sc%Def         0.308101\n",
       "EXPDef         0.345237\n",
       "Name: Pass NY/A, dtype: float64"
      ]
     },
     "execution_count": 421,
     "metadata": {},
     "output_type": "execute_result"
    }
   ],
   "source": [
    "\n",
    "corr = data4.corr()\n",
    "corr.head()\n",
    "#Correlation with output variable\n",
    "cor_target = abs(corr[\"Pass NY/A\"])\n",
    "#Selecting highly correlated features\n",
    "relevant_features = cor_target[cor_target>0.25]\n",
    "relevant_features"
   ]
  },
  {
   "cell_type": "code",
   "execution_count": 424,
   "metadata": {},
   "outputs": [
    {
     "name": "stdout",
     "output_type": "stream",
     "text": [
      "Score: 0.1587852015225215\n",
      "intercept: [-0.21265145]\n",
      "Pass NY/A: [[ 1.02329635  0.01350145 -0.06274578  0.03249883]]\n"
     ]
    }
   ],
   "source": [
    "X=data4[['Y/PDef','Sc%Def','EXPDef','1stDDef']]\n",
    "y=data4[['Pass NY/A']]\n",
    "lm = linear_model.LinearRegression()\n",
    "model = lm.fit(X,y)\n",
    "print('Score:', model.score(X, y))\n",
    "print('intercept:', model.intercept_)\n",
    "print('Pass NY/A:', model.coef_)"
   ]
  },
  {
   "cell_type": "markdown",
   "metadata": {},
   "source": [
    "## Chiefs Projected Pass NY/A Given 49ers Stats = 5.189"
   ]
  },
  {
   "cell_type": "markdown",
   "metadata": {},
   "source": [
    "## Predicting QBR"
   ]
  },
  {
   "cell_type": "code",
   "execution_count": 426,
   "metadata": {},
   "outputs": [
    {
     "data": {
      "text/plain": [
       "Tm             0.735357\n",
       "OCmp           0.394869\n",
       "PassYds        0.594238\n",
       "OInt           0.573691\n",
       "Pass Y/A       0.750265\n",
       "Pass NY/A      0.733114\n",
       "Cmp%           0.693766\n",
       "qBRate         1.000000\n",
       "Pnt            0.365489\n",
       "pntYds         0.373933\n",
       "3DConv         0.302736\n",
       "TotalYdsDef    0.216639\n",
       "Y/PDef         0.263001\n",
       "1stDDef        0.209333\n",
       "CmpDef         0.209637\n",
       "PassYdsDef     0.218310\n",
       "IntDef         0.204248\n",
       "NY/ADef        0.247409\n",
       "Sc%Def         0.294955\n",
       "EXPDef         0.369308\n",
       "Name: qBRate, dtype: float64"
      ]
     },
     "execution_count": 426,
     "metadata": {},
     "output_type": "execute_result"
    }
   ],
   "source": [
    "#qbr\n",
    "corr = data4.corr()\n",
    "corr.head()\n",
    "#Correlation with output variable\n",
    "cor_target = abs(corr[\"qBRate\"])\n",
    "#Selecting highly correlated features\n",
    "relevant_features = cor_target[cor_target>0.2]\n",
    "relevant_features"
   ]
  },
  {
   "cell_type": "code",
   "execution_count": 431,
   "metadata": {},
   "outputs": [
    {
     "name": "stdout",
     "output_type": "stream",
     "text": [
      "Score: 0.15981815821154877\n",
      "intercept: [36.80485427]\n",
      "Pass NY/A: [[-1.50241314  0.72614923 -1.60336251  1.80685669]]\n"
     ]
    }
   ],
   "source": [
    "X=data4[['EXPDef','Sc%Def','NY/ADef','CmpDef']]\n",
    "y=data4[['qBRate']]\n",
    "lm = linear_model.LinearRegression()\n",
    "model = lm.fit(X,y)\n",
    "print('Score:', model.score(X, y))\n",
    "print('intercept:', model.intercept_)\n",
    "print('QBR:', model.coef_)"
   ]
  },
  {
   "cell_type": "markdown",
   "metadata": {},
   "source": [
    "## Chiefs Projected QBR Given 49ers Stats = 77.109"
   ]
  },
  {
   "cell_type": "markdown",
   "metadata": {},
   "source": [
    "## Prediciting Comp% "
   ]
  },
  {
   "cell_type": "code",
   "execution_count": 434,
   "metadata": {},
   "outputs": [
    {
     "data": {
      "text/plain": [
       "Tm             0.487861\n",
       "OCmp           0.477258\n",
       "PassYds        0.400461\n",
       "OInt           0.206050\n",
       "OYds           0.175776\n",
       "Pass Y/A       0.592624\n",
       "Pass NY/A      0.565369\n",
       "Cmp%           1.000000\n",
       "qBRate         0.693766\n",
       "Pnt            0.440259\n",
       "pntYds         0.437154\n",
       "3DConv         0.291407\n",
       "4DAtt          0.171675\n",
       "TotalYdsDef    0.157335\n",
       "Y/PDef         0.199159\n",
       "CmpDef         0.284468\n",
       "PassYdsDef     0.197295\n",
       "NY/ADef        0.156924\n",
       "Sc%Def         0.167139\n",
       "EXPDef         0.192271\n",
       "Name: Cmp%, dtype: float64"
      ]
     },
     "execution_count": 434,
     "metadata": {},
     "output_type": "execute_result"
    }
   ],
   "source": [
    "#Cmp%\n",
    "corr = data4.corr()\n",
    "corr.head()\n",
    "#Correlation with output variable\n",
    "cor_target = abs(corr[\"Cmp%\"])\n",
    "#Selecting highly correlated features\n",
    "relevant_features = cor_target[cor_target>0.15]\n",
    "relevant_features"
   ]
  },
  {
   "cell_type": "code",
   "execution_count": 436,
   "metadata": {},
   "outputs": [
    {
     "name": "stdout",
     "output_type": "stream",
     "text": [
      "Score: 0.11014947450373946\n",
      "intercept: [34.91352477]\n",
      "Cmp%: [[ 1.64633665 -0.0617111  -0.2243508   0.21479017]]\n"
     ]
    }
   ],
   "source": [
    "X=data4[['CmpDef','PassYdsDef','EXPDef','Sc%Def']]\n",
    "y=data4[['Cmp%']]\n",
    "lm = linear_model.LinearRegression()\n",
    "model = lm.fit(X,y)\n",
    "print('Score:', model.score(X, y))\n",
    "print('intercept:', model.intercept_)\n",
    "print('Cmp%:', model.coef_)"
   ]
  },
  {
   "cell_type": "markdown",
   "metadata": {},
   "source": [
    "## Chiefs Projected Comp% Given 49ers Stats = 62.116%"
   ]
  },
  {
   "cell_type": "markdown",
   "metadata": {},
   "source": [
    "## Projected Punts"
   ]
  },
  {
   "cell_type": "code",
   "execution_count": 440,
   "metadata": {},
   "outputs": [
    {
     "data": {
      "text/plain": [
       "Tm            0.422487\n",
       "OCmp          0.353749\n",
       "PassYds       0.536156\n",
       "Sk taken      0.292438\n",
       "OYds          0.241011\n",
       "Pass Y/A      0.553819\n",
       "Pass NY/A     0.594274\n",
       "Cmp%          0.440259\n",
       "qBRate        0.365489\n",
       "Pnt           1.000000\n",
       "pntYds        0.963743\n",
       "3DConv        0.349650\n",
       "3DAtt         0.261149\n",
       "PlyDef        0.179803\n",
       "Y/PDef        0.243618\n",
       "CmpDef        0.180131\n",
       "PassYdsDef    0.204513\n",
       "NY/ADef       0.208005\n",
       "1stDDefP      0.179565\n",
       "RushAttDef    0.249465\n",
       "Sc%Def        0.173459\n",
       "EXPDef        0.294719\n",
       "Name: Pnt, dtype: float64"
      ]
     },
     "execution_count": 440,
     "metadata": {},
     "output_type": "execute_result"
    }
   ],
   "source": [
    "#pnt\n",
    "corr = data4.corr()\n",
    "corr.head()\n",
    "#Correlation with output variable\n",
    "cor_target = abs(corr[\"Pnt\"])\n",
    "#Selecting highly correlated features\n",
    "relevant_features = cor_target[cor_target>0.15]\n",
    "relevant_features"
   ]
  },
  {
   "cell_type": "code",
   "execution_count": 441,
   "metadata": {},
   "outputs": [
    {
     "name": "stdout",
     "output_type": "stream",
     "text": [
      "Score: 0.165742334694149\n",
      "intercept: [2.50353237]\n",
      "Pnt: [[ 0.07890892 -0.68793236  0.21425513  0.00167077]]\n"
     ]
    }
   ],
   "source": [
    "X=data4[['EXPDef','Y/PDef','RushAttDef','CmpDef']]\n",
    "y=data4[['Pnt']]\n",
    "lm = linear_model.LinearRegression()\n",
    "model = lm.fit(X,y)\n",
    "print('Score:', model.score(X, y))\n",
    "print('intercept:', model.intercept_)\n",
    "print('Pnt:', model.coef_)"
   ]
  },
  {
   "cell_type": "markdown",
   "metadata": {},
   "source": [
    "## Chiefs Expected Punts Given 49ers Stats = 5.15"
   ]
  },
  {
   "cell_type": "markdown",
   "metadata": {},
   "source": [
    "## Chiefs Expected Score using oringial score regression from above plugging in projected featured values from above = 19.237"
   ]
  },
  {
   "cell_type": "markdown",
   "metadata": {},
   "source": [
    "# Modeling only given 2019 data"
   ]
  },
  {
   "cell_type": "code",
   "execution_count": 340,
   "metadata": {},
   "outputs": [
    {
     "name": "stdout",
     "output_type": "stream",
     "text": [
      "    Tm  OCmp  OAtt  PassYds  OInt  Sk taken  OYds  Pass Y/A  Pass NY/A  Cmp%  \\\n",
      "0   40    25    34      378     0         0     0      11.1       11.1  73.5   \n",
      "1   28    30    44      436     0         2     7      10.1        9.5  68.2   \n",
      "2   33    27    37      363     0         1    11      10.1        9.6  73.0   \n",
      "3   34    24    42      315     0         0     0       7.5        7.5  57.1   \n",
      "4   13    22    39      288     0         4    33       8.2        6.7  56.4   \n",
      "5   24    19    35      256     1         1    17       7.8        7.1  54.3   \n",
      "6   30    20    30      191     0         1     2       6.4        6.2  66.7   \n",
      "7   24    24    36      249     0         2    18       7.4        6.6  66.7   \n",
      "8   26    25    35      230     0         5    45       7.9        5.8  71.4   \n",
      "9   32    36    51      433     0         2    13       8.7        8.2  70.6   \n",
      "10  24    19    32      180     1         1     2       5.7        5.5  59.4   \n",
      "11  40    15    29      163     0         1    12       6.0        5.4  51.7   \n",
      "12  23    26    40      271     1         1    12       7.1        6.6  65.0   \n",
      "13  23    27    34      327     1         3    13      10.0        8.8  79.4   \n",
      "14  26    23    33      244     0         1     7       7.6        7.2  69.7   \n",
      "15  31    16    25      174     1         0     0       7.0        7.0  64.0   \n",
      "16  51    23    35      316     0         1     5       9.2        8.8  65.7   \n",
      "17  35    23    35      292     0         2     2       8.4        7.9  65.7   \n",
      "\n",
      "    qBRate  Att  rushYds  RUSH Y/A  Pnt  pntYds  3DConv  3DAtt  4DConv  4DAtt  \n",
      "0    139.1   26      113       4.3    1      51       5     10       0      0  \n",
      "1    130.5   22       31       1.4    5     196       8     14       0      0  \n",
      "2    130.8   25      140       5.6    2      88       5      9       0      1  \n",
      "3     81.0   25      123       4.9    2      91       4      9       1      1  \n",
      "4     88.4   14       36       2.6    4     155       4     12       1      2  \n",
      "5     94.5   11       53       4.8    2     119       4      8       0      0  \n",
      "6    106.4   27       80       3.0    6     266       5     15       1      1  \n",
      "7    105.0   20       88       4.4    3     154       6     11       0      0  \n",
      "8     98.5   18      147       8.2    5     251       4     13       1      1  \n",
      "9    115.9   25       97       3.9    1      26       7     14       1      2  \n",
      "10    72.4   27      130       4.8    6     240       6     13       0      0  \n",
      "11    80.1   29       96       3.3    2      83       7     11       0      1  \n",
      "12    82.4   29       75       2.6    4     131       5     16       1      1  \n",
      "13   114.1   25       92       3.7    2      79       6     11       0      0  \n",
      "14   111.2   29      106       3.7    2      93       6     11       0      0  \n",
      "15    81.1   23      162       7.0    2     103       7     10       0      0  \n",
      "16   134.0   21      118       5.6    4     123       2      8       0      0  \n",
      "17   120.2   27      112       4.1    3     122       6     10       1      1  \n"
     ]
    }
   ],
   "source": [
    "#subset data looking at 2019 only\n",
    "data=data.iloc[0:18]\n",
    "print(data)"
   ]
  },
  {
   "cell_type": "markdown",
   "metadata": {},
   "source": [
    "## Most important features given only 2019 data"
   ]
  },
  {
   "cell_type": "code",
   "execution_count": 341,
   "metadata": {},
   "outputs": [
    {
     "data": {
      "text/plain": [
       "Tm           1.000000\n",
       "OInt         0.363130\n",
       "Sk taken     0.493352\n",
       "OYds         0.496155\n",
       "Pass NY/A    0.383688\n",
       "qBRate       0.440394\n",
       "rushYds      0.425616\n",
       "3DAtt        0.428863\n",
       "Name: Tm, dtype: float64"
      ]
     },
     "execution_count": 341,
     "metadata": {},
     "output_type": "execute_result"
    }
   ],
   "source": [
    "corr = data.corr()\n",
    "corr.head()\n",
    "#Correlation with output variable\n",
    "cor_target = abs(corr[\"Tm\"])\n",
    "#Selecting highly correlated features\n",
    "relevant_features = cor_target[cor_target>0.35]\n",
    "relevant_features"
   ]
  },
  {
   "cell_type": "markdown",
   "metadata": {},
   "source": [
    "## Most Important Features Predicting Score Given 2019 Records are Sacks Taken, Pass Yards per Attempt, QBR,  Rush Yards and 3rd Down Attempts"
   ]
  },
  {
   "cell_type": "code",
   "execution_count": 343,
   "metadata": {},
   "outputs": [],
   "source": [
    "X=data[['Sk taken','Pass NY/A','qBRate','rushYds','3DAtt']]\n",
    "y=data[['Tm']]\n",
    "\n",
    "lm = linear_model.LinearRegression()\n",
    "model = lm.fit(X,y)\n"
   ]
  },
  {
   "cell_type": "code",
   "execution_count": 344,
   "metadata": {},
   "outputs": [
    {
     "name": "stdout",
     "output_type": "stream",
     "text": [
      "Score: 0.6222313986057935\n"
     ]
    }
   ],
   "source": [
    "print('Score:', model.score(X, y))"
   ]
  },
  {
   "cell_type": "markdown",
   "metadata": {},
   "source": [
    "## 2019 Kansas City Score Regression Equation"
   ]
  },
  {
   "cell_type": "code",
   "execution_count": 345,
   "metadata": {
    "scrolled": true
   },
   "outputs": [
    {
     "name": "stdout",
     "output_type": "stream",
     "text": [
      "intercept: [18.70414193]\n",
      "KC Score Coef: [[-3.10153976 -2.39199662  0.32229273  0.0698103  -0.59521856]]\n"
     ]
    }
   ],
   "source": [
    "print('intercept:', model.intercept_)\n",
    "\n",
    "print('KC Score Coef:', model.coef_)"
   ]
  },
  {
   "cell_type": "code",
   "execution_count": 442,
   "metadata": {},
   "outputs": [
    {
     "name": "stdout",
     "output_type": "stream",
     "text": [
      "<class 'pandas.core.frame.DataFrame'>\n",
      "RangeIndex: 18 entries, 0 to 17\n",
      "Data columns (total 47 columns):\n",
      "Tm             18 non-null int64\n",
      "OCmp           18 non-null int64\n",
      "OAtt           18 non-null int64\n",
      "PassYds        18 non-null int64\n",
      "OInt           18 non-null int64\n",
      "Sk taken       18 non-null int64\n",
      "OYds           18 non-null int64\n",
      "Pass Y/A       18 non-null float64\n",
      "Pass NY/A      18 non-null float64\n",
      "Cmp%           18 non-null float64\n",
      "qBRate         18 non-null float64\n",
      "Att            18 non-null int64\n",
      "rushYds        18 non-null int64\n",
      "RUSH Y/A       18 non-null float64\n",
      "Pnt            18 non-null int64\n",
      "pntYds         18 non-null int64\n",
      "3DConv         18 non-null int64\n",
      "3DAtt          18 non-null int64\n",
      "4DConv         18 non-null int64\n",
      "4DAtt          18 non-null int64\n",
      "Team Name      18 non-null object\n",
      "GDef           18 non-null float64\n",
      "PFDef          18 non-null float64\n",
      "TotalYdsDef    18 non-null float64\n",
      "PlyDef         18 non-null float64\n",
      "Y/PDef         18 non-null float64\n",
      "TODef          18 non-null float64\n",
      "FLDef          18 non-null float64\n",
      "1stDDef        18 non-null float64\n",
      "CmpDef         18 non-null float64\n",
      "AttDef         18 non-null float64\n",
      "PassYdsDef     18 non-null float64\n",
      "TDDef          18 non-null float64\n",
      "IntDef         18 non-null float64\n",
      "NY/ADef        18 non-null float64\n",
      "1stDDefP       18 non-null float64\n",
      "RushAttDef     18 non-null float64\n",
      "RushYdsDef     18 non-null float64\n",
      "RTDDef         18 non-null float64\n",
      "Y/ADef         18 non-null float64\n",
      "1stDDefr       18 non-null float64\n",
      "PenDef         18 non-null float64\n",
      "PenYdsDef      18 non-null float64\n",
      "1stPyDef       18 non-null float64\n",
      "Sc%Def         18 non-null float64\n",
      "TO%Def         18 non-null float64\n",
      "EXPDef         18 non-null float64\n",
      "dtypes: float64(31), int64(15), object(1)\n",
      "memory usage: 6.7+ KB\n"
     ]
    }
   ],
   "source": [
    "\n",
    "data5=data4.iloc[0:18,0:47]\n",
    "data5.info()"
   ]
  },
  {
   "cell_type": "markdown",
   "metadata": {},
   "source": [
    "## Predicting Sacks Taken"
   ]
  },
  {
   "cell_type": "code",
   "execution_count": 411,
   "metadata": {},
   "outputs": [
    {
     "data": {
      "text/plain": [
       "Tm            0.493352\n",
       "Sk taken      1.000000\n",
       "OYds          0.865710\n",
       "Att           0.440396\n",
       "Pnt           0.325657\n",
       "pntYds        0.364677\n",
       "3DAtt         0.300723\n",
       "4DConv        0.360243\n",
       "4DAtt         0.370956\n",
       "TODef         0.387045\n",
       "CmpDef        0.494084\n",
       "AttDef        0.342184\n",
       "IntDef        0.354212\n",
       "RushYdsDef    0.323604\n",
       "RTDDef        0.545291\n",
       "1stDDefr      0.323682\n",
       "TO%Def        0.430620\n",
       "Name: Sk taken, dtype: float64"
      ]
     },
     "execution_count": 411,
     "metadata": {},
     "output_type": "execute_result"
    }
   ],
   "source": [
    "\n",
    "corr = data5.corr()\n",
    "corr.head()\n",
    "#Correlation with output variable\n",
    "cor_target = abs(corr['Sk taken'])\n",
    "#Selecting highly correlated features\n",
    "relevant_features = cor_target[cor_target>0.3]\n",
    "relevant_features"
   ]
  },
  {
   "cell_type": "code",
   "execution_count": 402,
   "metadata": {},
   "outputs": [],
   "source": [
    "X=data5[['RTDDef','CmpDef','TO%Def','RushYdsDef']]\n",
    "y=data5[['Sk taken']]\n",
    "\n",
    "lm = linear_model.LinearRegression()\n",
    "model = lm.fit(X,y)\n",
    "print('Score:', model.score(X, y))\n",
    "print('intercept:', model.intercept_)\n",
    "print('Sk taken:', model.coef_)"
   ]
  },
  {
   "cell_type": "markdown",
   "metadata": {},
   "source": [
    "## Chiefs Sacks Taken Given 49ers Stats = 1.29\n",
    "\n"
   ]
  },
  {
   "cell_type": "markdown",
   "metadata": {},
   "source": [
    "## Predicting Pass NY/A"
   ]
  },
  {
   "cell_type": "code",
   "execution_count": 445,
   "metadata": {},
   "outputs": [
    {
     "data": {
      "text/plain": [
       "Tm             0.383688\n",
       "OCmp           0.542856\n",
       "OAtt           0.320919\n",
       "PassYds        0.822746\n",
       "OInt           0.216516\n",
       "Sk taken       0.219781\n",
       "OYds           0.335864\n",
       "Pass Y/A       0.937970\n",
       "Pass NY/A      1.000000\n",
       "Cmp%           0.579316\n",
       "qBRate         0.835480\n",
       "Pnt            0.434899\n",
       "pntYds         0.507379\n",
       "3DAtt          0.327488\n",
       "4DConv         0.286040\n",
       "4DAtt          0.217067\n",
       "TotalYdsDef    0.252080\n",
       "Y/PDef         0.283524\n",
       "1stDDef        0.218120\n",
       "IntDef         0.243771\n",
       "RushYdsDef     0.287983\n",
       "RTDDef         0.432475\n",
       "Y/ADef         0.379647\n",
       "1stDDefr       0.238502\n",
       "Name: Pass NY/A, dtype: float64"
      ]
     },
     "execution_count": 445,
     "metadata": {},
     "output_type": "execute_result"
    }
   ],
   "source": [
    "#Predicting 'Pass NY/A'\n",
    "corr = data5.corr()\n",
    "corr.head()\n",
    "#Correlation with output variable\n",
    "cor_target = abs(corr['Pass NY/A'])\n",
    "#Selecting highly correlated features\n",
    "relevant_features = cor_target[cor_target>0.2]\n",
    "relevant_features"
   ]
  },
  {
   "cell_type": "code",
   "execution_count": 447,
   "metadata": {},
   "outputs": [
    {
     "name": "stdout",
     "output_type": "stream",
     "text": [
      "Score: 0.2775776682888451\n",
      "intercept: [-0.02140123]\n",
      "Pass NY/A: [[ 1.79348646  1.38113794  0.03835943 -0.72478295]]\n"
     ]
    }
   ],
   "source": [
    "X=data5[['RTDDef','Y/ADef','1stDDef','IntDef']]\n",
    "y=data5[['Pass NY/A']]\n",
    "\n",
    "lm = linear_model.LinearRegression()\n",
    "model = lm.fit(X,y)\n",
    "print('Score:', model.score(X, y))\n",
    "print('intercept:', model.intercept_)\n",
    "print('Pass NY/A:', model.coef_)"
   ]
  },
  {
   "cell_type": "markdown",
   "metadata": {},
   "source": [
    "## Projected Pass NY/A Given 49ers Stats = 7.570436 \n"
   ]
  },
  {
   "cell_type": "markdown",
   "metadata": {},
   "source": [
    "## Predicting QBR"
   ]
  },
  {
   "cell_type": "code",
   "execution_count": 449,
   "metadata": {},
   "outputs": [
    {
     "data": {
      "text/plain": [
       "Tm             0.440394\n",
       "OCmp           0.549258\n",
       "OAtt           0.252792\n",
       "PassYds        0.704337\n",
       "OInt           0.479796\n",
       "Pass Y/A       0.843012\n",
       "Pass NY/A      0.835480\n",
       "Cmp%           0.676375\n",
       "qBRate         1.000000\n",
       "pntYds         0.246358\n",
       "3DAtt          0.208215\n",
       "4DConv         0.225140\n",
       "TotalYdsDef    0.249597\n",
       "Y/PDef         0.211662\n",
       "FLDef          0.288898\n",
       "1stDDef        0.232260\n",
       "AttDef         0.245416\n",
       "PassYdsDef     0.209025\n",
       "1stDDefP       0.203402\n",
       "RTDDef         0.316923\n",
       "Y/ADef         0.345500\n",
       "Name: qBRate, dtype: float64"
      ]
     },
     "execution_count": 449,
     "metadata": {},
     "output_type": "execute_result"
    }
   ],
   "source": [
    "\n",
    "corr = data5.corr()\n",
    "corr.head()\n",
    "#Correlation with output variable\n",
    "cor_target = abs(corr['qBRate'])\n",
    "#Selecting highly correlated features\n",
    "relevant_features = cor_target[cor_target>0.2]\n",
    "relevant_features"
   ]
  },
  {
   "cell_type": "code",
   "execution_count": 450,
   "metadata": {},
   "outputs": [
    {
     "name": "stdout",
     "output_type": "stream",
     "text": [
      "Score: 0.30101021913043335\n",
      "intercept: [-35.00357251]\n",
      "QBR: [[34.57742173 11.09659719 27.01846446  1.45549022]]\n"
     ]
    }
   ],
   "source": [
    "X=data5[['RTDDef','Y/ADef','FLDef','AttDef']]\n",
    "y=data5[['qBRate']]\n",
    "\n",
    "lm = linear_model.LinearRegression()\n",
    "model = lm.fit(X,y)\n",
    "print('Score:', model.score(X, y))\n",
    "print('intercept:', model.intercept_)\n",
    "print('QBR:', model.coef_)"
   ]
  },
  {
   "cell_type": "markdown",
   "metadata": {},
   "source": [
    "\n",
    "## Projected QBR Given 49ers Stats = 111.34"
   ]
  },
  {
   "cell_type": "markdown",
   "metadata": {},
   "source": [
    "## Projecting Rush Yrds"
   ]
  },
  {
   "cell_type": "code",
   "execution_count": 454,
   "metadata": {},
   "outputs": [
    {
     "data": {
      "text/plain": [
       "Tm            0.425616\n",
       "OAtt          0.393041\n",
       "PassYds       0.276823\n",
       "Sk taken      0.231067\n",
       "Cmp%          0.238247\n",
       "Att           0.342299\n",
       "rushYds       1.000000\n",
       "RUSH Y/A      0.818487\n",
       "3DAtt         0.316485\n",
       "PFDef         0.202373\n",
       "Y/PDef        0.235831\n",
       "1stDDef       0.234133\n",
       "PassYdsDef    0.288054\n",
       "TDDef         0.312191\n",
       "NY/ADef       0.246930\n",
       "1stDDefP      0.206456\n",
       "RushYdsDef    0.202386\n",
       "RTDDef        0.214378\n",
       "Name: rushYds, dtype: float64"
      ]
     },
     "execution_count": 454,
     "metadata": {},
     "output_type": "execute_result"
    }
   ],
   "source": [
    "corr = data5.corr()\n",
    "corr.head()\n",
    "#Correlation with output variable\n",
    "cor_target = abs(corr['rushYds'])\n",
    "#Selecting highly correlated features\n",
    "relevant_features = cor_target[cor_target>0.2]\n",
    "relevant_features"
   ]
  },
  {
   "cell_type": "code",
   "execution_count": 456,
   "metadata": {},
   "outputs": [
    {
     "name": "stdout",
     "output_type": "stream",
     "text": [
      "Score: 0.2125615033365037\n",
      "intercept: [104.52110471]\n",
      "rushYds: [[-62.6120936   -1.65092853  25.73340366   7.86526488]]\n"
     ]
    }
   ],
   "source": [
    "X=data5[['TDDef','PassYdsDef','1stDDefP','PFDef']]\n",
    "y=data5[['rushYds']]\n",
    "lm = linear_model.LinearRegression()\n",
    "model = lm.fit(X,y)\n",
    "print('Score:', model.score(X, y))\n",
    "print('intercept:', model.intercept_)\n",
    "print('rushYds:', model.coef_)"
   ]
  },
  {
   "cell_type": "markdown",
   "metadata": {},
   "source": [
    "## Projected Rush Yds Given 49ers Stats = 128.743"
   ]
  },
  {
   "cell_type": "markdown",
   "metadata": {},
   "source": [
    "## Projecting 3rd Down Attempts"
   ]
  },
  {
   "cell_type": "code",
   "execution_count": 462,
   "metadata": {},
   "outputs": [
    {
     "data": {
      "text/plain": [
       "Tm             0.428863\n",
       "RUSH Y/A       0.438200\n",
       "Pnt            0.532693\n",
       "pntYds         0.456587\n",
       "3DAtt          1.000000\n",
       "4DConv         0.461987\n",
       "PFDef          0.416123\n",
       "TotalYdsDef    0.520162\n",
       "Y/PDef         0.560401\n",
       "PassYdsDef     0.431809\n",
       "IntDef         0.423819\n",
       "RushYdsDef     0.422663\n",
       "Y/ADef         0.458978\n",
       "Sc%Def         0.435109\n",
       "EXPDef         0.529787\n",
       "Name: 3DAtt, dtype: float64"
      ]
     },
     "execution_count": 462,
     "metadata": {},
     "output_type": "execute_result"
    }
   ],
   "source": [
    "corr = data5.corr()\n",
    "corr.head()\n",
    "#Correlation with output variable\n",
    "cor_target = abs(corr['3DAtt'])\n",
    "#Selecting highly correlated features\n",
    "relevant_features = cor_target[cor_target>0.4]\n",
    "relevant_features"
   ]
  },
  {
   "cell_type": "code",
   "execution_count": 463,
   "metadata": {},
   "outputs": [
    {
     "name": "stdout",
     "output_type": "stream",
     "text": [
      "Score: 0.42188902885967833\n",
      "intercept: [11.49642046]\n",
      "rushYds: [[ 2.37413446 -3.08347133  0.40706778  0.04546511]]\n"
     ]
    }
   ],
   "source": [
    "X=data5[['Y/PDef','Y/ADef','EXPDef','Sc%Def']]\n",
    "y=data5[['3DAtt']]\n",
    "lm = linear_model.LinearRegression()\n",
    "model = lm.fit(X,y)\n",
    "print('Score:', model.score(X, y))\n",
    "print('intercept:', model.intercept_)\n",
    "print('rushYds:', model.coef_)"
   ]
  },
  {
   "cell_type": "markdown",
   "metadata": {},
   "source": [
    "## Projected 3rd Down Attempts Given 49ers Stats = 12.54"
   ]
  },
  {
   "cell_type": "markdown",
   "metadata": {},
   "source": [
    "# Chiefs Expected Score Using 2019 Regression Equation From Above, Plugging In Projected Featured Values From 2019 Season=33.999546\n"
   ]
  },
  {
   "cell_type": "markdown",
   "metadata": {},
   "source": [
    "# Projected Score Given 10 Years Records=19.237"
   ]
  },
  {
   "cell_type": "markdown",
   "metadata": {},
   "source": [
    "# Weighted Projected Score=75% 2019 Season+.25%*10 Years Score = 30"
   ]
  },
  {
   "cell_type": "code",
   "execution_count": null,
   "metadata": {},
   "outputs": [],
   "source": []
  }
 ],
 "metadata": {
  "kernelspec": {
   "display_name": "Python 3",
   "language": "python",
   "name": "python3"
  },
  "language_info": {
   "codemirror_mode": {
    "name": "ipython",
    "version": 3
   },
   "file_extension": ".py",
   "mimetype": "text/x-python",
   "name": "python",
   "nbconvert_exporter": "python",
   "pygments_lexer": "ipython3",
   "version": "3.7.3"
  }
 },
 "nbformat": 4,
 "nbformat_minor": 2
}
