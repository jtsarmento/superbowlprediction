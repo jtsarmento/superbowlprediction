{
 "cells": [
  {
   "cell_type": "markdown",
   "metadata": {},
   "source": [
    "# 49ers SuperBowl Score Prediction Model"
   ]
  },
  {
   "cell_type": "markdown",
   "metadata": {},
   "source": [
    "#### Methodology:  Utilize multi step modeling to predict the 49ers' Superbowl score.  To begin I used linear regression to identify the most important offensive stat (ie: Pass Yards, Rush Yards etc.) features that predict 49ers' total score given two data sets, one containing data from the past ten seasons, one containing data from just 2019. I then predicted each offensive \"important feature\" seperately given Kansas City's defensive stats, projecting what the 49ers' offense stats will be during the Superbowl given the two data sets. I finally plugged in the predicted \"important features\" into their respective score regressions to obtain two seperate projected scores given the last ten seasons stats and 2019 season respectively.  Finally I took a weighted average giving more importance to the 2019 season."
   ]
  },
  {
   "cell_type": "code",
   "execution_count": 1,
   "metadata": {},
   "outputs": [],
   "source": [
    "import numpy as np\n",
    "import pandas as pd\n",
    "from sklearn import datasets, linear_model\n",
    "from sklearn.linear_model import LinearRegression\n"
   ]
  },
  {
   "cell_type": "code",
   "execution_count": 9,
   "metadata": {},
   "outputs": [
    {
     "name": "stdout",
     "output_type": "stream",
     "text": [
      "<class 'pandas.core.frame.DataFrame'>\n",
      "RangeIndex: 170 entries, 0 to 169\n",
      "Data columns (total 47 columns):\n",
      "Tm             170 non-null int64\n",
      "OCmp           170 non-null int64\n",
      "OAtt           170 non-null int64\n",
      "PassYds        170 non-null int64\n",
      "OInt           170 non-null int64\n",
      "Sk taken       170 non-null int64\n",
      "OYds           170 non-null int64\n",
      "Pass Y/A       170 non-null float64\n",
      "Pass NY/A      170 non-null float64\n",
      "Cmp%           170 non-null float64\n",
      "qBRate         170 non-null float64\n",
      "Att            170 non-null int64\n",
      "rushYds        170 non-null int64\n",
      "RUSH Y/A       170 non-null float64\n",
      "Pnt            170 non-null int64\n",
      "pntYds         170 non-null int64\n",
      "3DConv         170 non-null int64\n",
      "3DAtt          170 non-null int64\n",
      "4DConv         170 non-null int64\n",
      "4DAtt          170 non-null int64\n",
      "Team Name      170 non-null object\n",
      "GDef           170 non-null float64\n",
      "PFDef          170 non-null float64\n",
      "TotalYdsDef    170 non-null float64\n",
      "PlyDef         170 non-null float64\n",
      "Y/PDef         170 non-null float64\n",
      "TODef          170 non-null float64\n",
      "FLDef          170 non-null float64\n",
      "1stDDef        170 non-null float64\n",
      "CmpDef         170 non-null float64\n",
      "AttDef         170 non-null float64\n",
      "PassYdsDef     170 non-null float64\n",
      "TDDef          170 non-null float64\n",
      "IntDef         170 non-null float64\n",
      "NY/ADef        170 non-null float64\n",
      "1stDDefP       170 non-null float64\n",
      "RushAttDef     170 non-null float64\n",
      "RushYdsDef     170 non-null float64\n",
      "RTDDef         170 non-null float64\n",
      "Y/ADef         170 non-null float64\n",
      "1stDDefr       170 non-null float64\n",
      "PenDef         170 non-null float64\n",
      "PenYdsDef      170 non-null float64\n",
      "1stPyDef       170 non-null float64\n",
      "Sc%Def         170 non-null float64\n",
      "TO%Def         170 non-null float64\n",
      "EXPDef         170 non-null float64\n",
      "dtypes: float64(31), int64(15), object(1)\n",
      "memory usage: 62.5+ KB\n"
     ]
    }
   ],
   "source": [
    "data=pd.read_csv('/Users/jt/Downloads/49ersfinal.csv')\n",
    "\n",
    "data.info()"
   ]
  },
  {
   "cell_type": "code",
   "execution_count": 10,
   "metadata": {},
   "outputs": [
    {
     "name": "stdout",
     "output_type": "stream",
     "text": [
      "{'Pass NY/A', 'pntYds', 'Sc%Def', 'PassYdsDef', 'AttDef', 'OAtt', '1stDDefP', '1stDDef', '1stDDefr', 'OYds', 'TO%Def', 'qBRate', 'NY/ADef', 'Y/PDef', 'PenYdsDef', 'IntDef'}\n"
     ]
    }
   ],
   "source": [
    "correlated_features = set()\n",
    "correlation_matrix = data.drop('Tm', axis=1).corr()\n",
    "\n",
    "for i in range(len(correlation_matrix.columns)):\n",
    "    for j in range(i):\n",
    "        if abs(correlation_matrix.iloc[i, j]) > 0.8:\n",
    "            colname = correlation_matrix.columns[i]\n",
    "            correlated_features.add(colname)\n",
    "\n",
    "print(correlated_features)"
   ]
  },
  {
   "cell_type": "code",
   "execution_count": 14,
   "metadata": {},
   "outputs": [
    {
     "data": {
      "text/plain": [
       "Tm           1.000000\n",
       "Sk taken     0.435890\n",
       "Pass Y/A     0.584282\n",
       "Pass NY/A    0.633727\n",
       "qBRate       0.680982\n",
       "Att          0.503850\n",
       "rushYds      0.514343\n",
       "Pnt          0.403251\n",
       "Name: Tm, dtype: float64"
      ]
     },
     "execution_count": 14,
     "metadata": {},
     "output_type": "execute_result"
    }
   ],
   "source": [
    "corr = data.corr()\n",
    "corr.head()\n",
    "#Correlation with output variable\n",
    "cor_target = abs(corr[\"Tm\"])\n",
    "#Selecting highly correlated features\n",
    "relevant_features = cor_target[cor_target>.4]\n",
    "relevant_features"
   ]
  },
  {
   "cell_type": "markdown",
   "metadata": {},
   "source": [
    "## Most Important Features Predicting San Francisco Score Given 10 years of Records are QB Rating, Passing Yards per Attempt, Rushing Yards, Passing Attempts and Punts"
   ]
  },
  {
   "cell_type": "markdown",
   "metadata": {},
   "source": [
    "## Original Score Regression Equation (Figure 1)"
   ]
  },
  {
   "cell_type": "code",
   "execution_count": 29,
   "metadata": {},
   "outputs": [
    {
     "name": "stdout",
     "output_type": "stream",
     "text": [
      "Score: 0.629499695315029\n",
      "intercept: [-8.14191842]\n",
      "49ers: [[ 0.15039175  1.10708581  0.05185833  0.1531507  -0.18188369]]\n"
     ]
    }
   ],
   "source": [
    "X=data[['qBRate','Pass NY/A','rushYds','Att','Pnt']]\n",
    "y=data[['Tm']]\n",
    "\n",
    "\n",
    "lm = linear_model.LinearRegression()\n",
    "model = lm.fit(X,y)\n",
    "print('Score:', model.score(X, y))\n",
    "print('intercept:', model.intercept_)\n",
    "print('49ers:', model.coef_)"
   ]
  },
  {
   "cell_type": "markdown",
   "metadata": {},
   "source": [
    "## Predicting QB Rating Using Defensive Stat Ratings "
   ]
  },
  {
   "cell_type": "code",
   "execution_count": 30,
   "metadata": {},
   "outputs": [
    {
     "data": {
      "text/plain": [
       "Tm             0.680982\n",
       "PassYds        0.517997\n",
       "OInt           0.590461\n",
       "Sk taken       0.326820\n",
       "OYds           0.261479\n",
       "Pass Y/A       0.801849\n",
       "Pass NY/A      0.787481\n",
       "Cmp%           0.666620\n",
       "qBRate         1.000000\n",
       "Att            0.290773\n",
       "Pnt            0.321828\n",
       "pntYds         0.293324\n",
       "PFDef          0.310070\n",
       "TotalYdsDef    0.358403\n",
       "Y/PDef         0.374231\n",
       "1stDDef        0.266760\n",
       "PassYdsDef     0.258001\n",
       "NY/ADef        0.358225\n",
       "RushYdsDef     0.266330\n",
       "EXPDef         0.274644\n",
       "Name: qBRate, dtype: float64"
      ]
     },
     "execution_count": 30,
     "metadata": {},
     "output_type": "execute_result"
    }
   ],
   "source": [
    "corr = data.corr()\n",
    "corr.head()\n",
    "#Correlation with output variable\n",
    "cor_target = abs(corr[\"qBRate\"])\n",
    "#Selecting highly correlated features\n",
    "relevant_features = cor_target[cor_target>.25]\n",
    "relevant_features"
   ]
  },
  {
   "cell_type": "code",
   "execution_count": 35,
   "metadata": {},
   "outputs": [
    {
     "name": "stdout",
     "output_type": "stream",
     "text": [
      "Score: 0.14546752056821033\n",
      "intercept: [-32.16639052]\n",
      "QBR: [[ 7.52311851e-01  1.97426815e+01 -8.99829051e-04 -2.18006557e-01]]\n"
     ]
    }
   ],
   "source": [
    "X=data[['PFDef','Y/PDef','EXPDef','1stDDef']]\n",
    "y=data[['qBRate']]\n",
    "\n",
    "\n",
    "lm = linear_model.LinearRegression()\n",
    "model = lm.fit(X,y)\n",
    "print('Score:', model.score(X, y))\n",
    "print('intercept:', model.intercept_)\n",
    "print('QBR:', model.coef_)"
   ]
  },
  {
   "cell_type": "markdown",
   "metadata": {},
   "source": [
    "## 49ers Projected QBR Given Chief's Stats = 84.2799679"
   ]
  },
  {
   "cell_type": "markdown",
   "metadata": {},
   "source": [
    "## Predicting Pass NY/A"
   ]
  },
  {
   "cell_type": "code",
   "execution_count": 36,
   "metadata": {},
   "outputs": [
    {
     "data": {
      "text/plain": [
       "Tm             0.633727\n",
       "PassYds        0.706043\n",
       "Sk taken       0.548172\n",
       "OYds           0.488160\n",
       "Pass Y/A       0.934568\n",
       "Pass NY/A      1.000000\n",
       "Cmp%           0.511626\n",
       "qBRate         0.787481\n",
       "Att            0.281973\n",
       "Pnt            0.510320\n",
       "pntYds         0.479986\n",
       "3DAtt          0.259162\n",
       "PFDef          0.278579\n",
       "TotalYdsDef    0.342528\n",
       "Y/PDef         0.342916\n",
       "1stDDef        0.233103\n",
       "PassYdsDef     0.233325\n",
       "NY/ADef        0.336762\n",
       "RushAttDef     0.209030\n",
       "RushYdsDef     0.272535\n",
       "RTDDef         0.210288\n",
       "Y/ADef         0.224710\n",
       "1stDDefr       0.223664\n",
       "Sc%Def         0.235842\n",
       "EXPDef         0.204029\n",
       "Name: Pass NY/A, dtype: float64"
      ]
     },
     "execution_count": 36,
     "metadata": {},
     "output_type": "execute_result"
    }
   ],
   "source": [
    "corr = data.corr()\n",
    "corr.head()\n",
    "#Correlation with output variable\n",
    "cor_target = abs(corr[\"Pass NY/A\"])\n",
    "#Selecting highly correlated features\n",
    "relevant_features = cor_target[cor_target>.2]\n",
    "relevant_features"
   ]
  },
  {
   "cell_type": "code",
   "execution_count": 37,
   "metadata": {},
   "outputs": [
    {
     "name": "stdout",
     "output_type": "stream",
     "text": [
      "Score: 0.14301172943147888\n",
      "intercept: [-6.31145198]\n",
      "Pass NY/A: [[ 2.07264826 -0.01405938 -0.0518262   0.13323889]]\n"
     ]
    }
   ],
   "source": [
    "X=data[['Y/PDef','1stDDef','Sc%Def','RushAttDef']]\n",
    "y=data[['Pass NY/A']]\n",
    "\n",
    "\n",
    "lm = linear_model.LinearRegression()\n",
    "model = lm.fit(X,y)\n",
    "print('Score:', model.score(X, y))\n",
    "print('intercept:', model.intercept_)\n",
    "print('Pass NY/A:', model.coef_)"
   ]
  },
  {
   "cell_type": "markdown",
   "metadata": {},
   "source": [
    "## Projected Pass NY/A Given Cheif's Defensive Stats = 6.24959"
   ]
  },
  {
   "cell_type": "markdown",
   "metadata": {},
   "source": [
    "## Predicting Rush Yds"
   ]
  },
  {
   "cell_type": "code",
   "execution_count": 39,
   "metadata": {},
   "outputs": [
    {
     "data": {
      "text/plain": [
       "Tm            0.514343\n",
       "OCmp          0.372039\n",
       "OAtt          0.445819\n",
       "PassYds       0.205732\n",
       "OInt          0.204210\n",
       "Sk taken      0.326696\n",
       "OYds          0.293045\n",
       "qBRate        0.240237\n",
       "Att           0.698615\n",
       "rushYds       1.000000\n",
       "RUSH Y/A      0.796252\n",
       "Pnt           0.326171\n",
       "pntYds        0.324189\n",
       "1stDDef       0.232767\n",
       "RushAttDef    0.306531\n",
       "RushYdsDef    0.398460\n",
       "RTDDef        0.271403\n",
       "Y/ADef        0.315436\n",
       "1stDDefr      0.351612\n",
       "1stPyDef      0.222947\n",
       "Name: rushYds, dtype: float64"
      ]
     },
     "execution_count": 39,
     "metadata": {},
     "output_type": "execute_result"
    }
   ],
   "source": [
    "corr = data.corr()\n",
    "corr.head()\n",
    "#Correlation with output variable\n",
    "cor_target = abs(corr[\"rushYds\"])\n",
    "#Selecting highly correlated features\n",
    "relevant_features = cor_target[cor_target>.2]\n",
    "relevant_features"
   ]
  },
  {
   "cell_type": "code",
   "execution_count": 40,
   "metadata": {},
   "outputs": [
    {
     "name": "stdout",
     "output_type": "stream",
     "text": [
      "Score: 0.21470569258474093\n",
      "intercept: [-75.79458795]\n",
      "Pass NY/A: [[ 1.26621475 -0.76177122  8.77300035 30.41496579]]\n"
     ]
    }
   ],
   "source": [
    "X=data[['RushYdsDef','1stDDefr','RTDDef','1stPyDef']]\n",
    "y=data[['rushYds']]\n",
    "\n",
    "\n",
    "lm = linear_model.LinearRegression()\n",
    "model = lm.fit(X,y)\n",
    "print('Score:', model.score(X, y))\n",
    "print('intercept:', model.intercept_)\n",
    "print('Rush Yds:', model.coef_)"
   ]
  },
  {
   "cell_type": "markdown",
   "metadata": {},
   "source": [
    "## Projected Rushing Yards Given Chief's Defensive Stats = 162.99"
   ]
  },
  {
   "cell_type": "markdown",
   "metadata": {},
   "source": [
    "## Predicting Passing Attempts"
   ]
  },
  {
   "cell_type": "code",
   "execution_count": 42,
   "metadata": {},
   "outputs": [
    {
     "data": {
      "text/plain": [
       "Tm             0.503850\n",
       "OCmp           0.321234\n",
       "OAtt           0.419999\n",
       "OInt           0.249406\n",
       "Sk taken       0.431372\n",
       "OYds           0.450617\n",
       "Pass Y/A       0.194786\n",
       "Pass NY/A      0.281973\n",
       "qBRate         0.290773\n",
       "Att            1.000000\n",
       "rushYds        0.698615\n",
       "RUSH Y/A       0.160598\n",
       "Pnt            0.281651\n",
       "pntYds         0.261763\n",
       "3DConv         0.399651\n",
       "3DAtt          0.182210\n",
       "PFDef          0.169546\n",
       "TotalYdsDef    0.175431\n",
       "PlyDef         0.267664\n",
       "1stDDef        0.225631\n",
       "AttDef         0.197544\n",
       "RushAttDef     0.419460\n",
       "RushYdsDef     0.355497\n",
       "RTDDef         0.276532\n",
       "1stDDefr       0.366773\n",
       "1stPyDef       0.174090\n",
       "Name: Att, dtype: float64"
      ]
     },
     "execution_count": 42,
     "metadata": {},
     "output_type": "execute_result"
    }
   ],
   "source": [
    "corr = data.corr()\n",
    "corr.head()\n",
    "#Correlation with output variable\n",
    "cor_target = abs(corr[\"Att\"])\n",
    "#Selecting highly correlated features\n",
    "relevant_features = cor_target[cor_target>.15]\n",
    "relevant_features"
   ]
  },
  {
   "cell_type": "code",
   "execution_count": 45,
   "metadata": {},
   "outputs": [
    {
     "name": "stdout",
     "output_type": "stream",
     "text": [
      "Score: 0.1846298255064701\n",
      "intercept: [-10.42811164]\n",
      "Attempts: [[0.19106544 0.62779357 0.84245307 0.93059086]]\n"
     ]
    }
   ],
   "source": [
    "X=data[['PlyDef','1stDDefr','RushAttDef','RTDDef']]\n",
    "y=data[['Att']]\n",
    "\n",
    "\n",
    "lm = linear_model.LinearRegression()\n",
    "model = lm.fit(X,y)\n",
    "print('Score:', model.score(X, y))\n",
    "print('intercept:', model.intercept_)\n",
    "print('Attempts:', model.coef_)"
   ]
  },
  {
   "cell_type": "markdown",
   "metadata": {},
   "source": [
    "## Projected Passing Attempts Given Chief's Stats = 29.265"
   ]
  },
  {
   "cell_type": "code",
   "execution_count": 46,
   "metadata": {},
   "outputs": [
    {
     "data": {
      "text/plain": [
       "Tm             0.403251\n",
       "OAtt           0.156835\n",
       "PassYds        0.310015\n",
       "Sk taken       0.398670\n",
       "OYds           0.338105\n",
       "Pass Y/A       0.442368\n",
       "Pass NY/A      0.510320\n",
       "Cmp%           0.401857\n",
       "qBRate         0.321828\n",
       "Att            0.281651\n",
       "rushYds        0.326171\n",
       "RUSH Y/A       0.210734\n",
       "Pnt            1.000000\n",
       "pntYds         0.966533\n",
       "3DConv         0.243464\n",
       "3DAtt          0.350686\n",
       "TotalYdsDef    0.172677\n",
       "Y/PDef         0.202447\n",
       "1stDDef        0.170039\n",
       "RushYdsDef     0.182913\n",
       "Y/ADef         0.206254\n",
       "Sc%Def         0.241600\n",
       "EXPDef         0.196469\n",
       "Name: Pnt, dtype: float64"
      ]
     },
     "execution_count": 46,
     "metadata": {},
     "output_type": "execute_result"
    }
   ],
   "source": [
    "corr = data.corr()\n",
    "corr.head()\n",
    "#Correlation with output variable\n",
    "cor_target = abs(corr[\"Pnt\"])\n",
    "#Selecting highly correlated features\n",
    "relevant_features = cor_target[cor_target>.15]\n",
    "relevant_features"
   ]
  },
  {
   "cell_type": "code",
   "execution_count": 48,
   "metadata": {},
   "outputs": [
    {
     "name": "stdout",
     "output_type": "stream",
     "text": [
      "Score: 0.06515841901976904\n",
      "intercept: [7.94534146]\n",
      "Attempts: [[-0.06531023  0.03513437 -0.00993858  0.0204101 ]]\n"
     ]
    }
   ],
   "source": [
    "X=data[['Sc%Def','Y/PDef','RushYdsDef','EXPDef']]\n",
    "y=data[['Pnt']]\n",
    "\n",
    "\n",
    "lm = linear_model.LinearRegression()\n",
    "model = lm.fit(X,y)\n",
    "print('Score:', model.score(X, y))\n",
    "print('intercept:', model.intercept_)\n",
    "print('Attempts:', model.coef_)"
   ]
  },
  {
   "cell_type": "markdown",
   "metadata": {},
   "source": [
    "## Projected Amount of 49er Punts Given Chiefs Defense = 4.524"
   ]
  },
  {
   "cell_type": "markdown",
   "metadata": {},
   "source": [
    "# 49ers Projected Score Using Projected Features with Figure 1 Regression = 23.5634"
   ]
  },
  {
   "cell_type": "markdown",
   "metadata": {},
   "source": [
    "# Modeling Given Only 2019 Season"
   ]
  },
  {
   "cell_type": "code",
   "execution_count": 49,
   "metadata": {},
   "outputs": [
    {
     "name": "stdout",
     "output_type": "stream",
     "text": [
      "    Tm  OCmp  OAtt  PassYds  OInt  Sk taken  OYds  Pass Y/A  Pass NY/A  Cmp%  \\\n",
      "0   31    18    27      158     1         1     8       6.1        5.6  66.7   \n",
      "1   41    18    26      312     1         0     0      12.0       12.0  69.2   \n",
      "2   24    23    32      268     2         1     9       8.7        8.1  71.9   \n",
      "3   31    20    29      171     0         2    10       6.2        5.5  69.0   \n",
      "4   20    24    33      232     1         2    11       7.4        6.6  72.7   \n",
      "5    9    12    21      146     1         2     5       7.2        6.3  57.1   \n",
      "6   51    18    22      156     1         3    19       8.0        6.2  81.8   \n",
      "7   28    28    37      310     0         1     7       8.6        8.2  75.7   \n",
      "8   24    24    46      215     1         5    33       5.4        4.2  52.2   \n",
      "9   36    34    45      408     2         2    16       9.4        8.7  75.6   \n",
      "10  37    14    20      227     0         3    26      12.7        9.9  70.0   \n",
      "11  17    15    21      157     0         2     8       7.9        6.8  71.4   \n",
      "12  48    27    36      354     1         3    30      10.7        9.1  75.0   \n",
      "13  22    22    34      193     0         1     7       5.9        5.5  64.7   \n",
      "14  34    16    27      215     2         6    33       9.2        6.5  59.3   \n",
      "15  26    18    22      270     0         2    15      13.0       11.3  81.8   \n",
      "16  27    11    19      122     1         2     9       6.9        5.8  57.9   \n",
      "17  37     6     8       69     0         1     8       9.6        7.7  75.0   \n",
      "\n",
      "    ...  RushYdsDef  RTDDef  Y/ADef  1stDDefr  PenDef  PenYdsDef  1stPyDef  \\\n",
      "0   ...        73.8    0.69     3.3      4.38    6.94       60.7      2.44   \n",
      "1   ...       148.9    1.06     4.7      7.75    7.63       61.8      1.31   \n",
      "2   ...       109.6    0.44     3.8      6.88    7.19       69.9      1.88   \n",
      "3   ...       144.7    1.19     5.0      7.75    6.69       52.3      2.31   \n",
      "4   ...       113.1    0.94     4.1      6.25    6.56       51.8      1.88   \n",
      "5   ...       146.2    0.88     4.7      7.50    5.88       50.3      2.13   \n",
      "6   ...       143.5    1.94     5.2      8.00    6.81       58.8      1.88   \n",
      "7   ...       120.1    0.56     4.4      5.88    7.13       65.1      2.38   \n",
      "8   ...       117.7    1.38     4.9      6.06    6.00       49.9      1.56   \n",
      "9   ...       120.1    0.56     4.4      5.88    7.13       65.1      2.38   \n",
      "10  ...       120.1    0.94     4.7      6.19    6.06       60.5      1.25   \n",
      "11  ...        93.4    0.75     4.4      4.63    6.06       49.7      2.44   \n",
      "12  ...        91.3    0.75     4.2      4.44    5.75       44.6      2.69   \n",
      "13  ...       110.9    0.81     4.2      6.75    7.94       67.5      1.88   \n",
      "14  ...       113.1    0.94     4.1      6.25    6.56       51.8      1.88   \n",
      "15  ...       117.7    1.38     4.9      6.06    6.00       49.9      1.56   \n",
      "16  ...       108.0    0.50     4.3      4.88    5.19       44.6      1.94   \n",
      "17  ...       120.1    0.94     4.7      6.19    6.06       60.5      1.25   \n",
      "\n",
      "    Sc%Def  TO%Def  EXPDef  \n",
      "0     39.6    13.5    0.76  \n",
      "1     39.8     8.8   -8.29  \n",
      "2     29.9    19.0    5.36  \n",
      "3     36.9    11.2   -5.70  \n",
      "4     33.7    12.7   -0.72  \n",
      "5     41.9    12.2   -8.49  \n",
      "6     41.4     9.4   -7.30  \n",
      "7     42.6     9.5  -10.91  \n",
      "8     37.1    16.3   -5.75  \n",
      "9     42.6     9.5  -10.91  \n",
      "10    34.5    14.1   -3.98  \n",
      "11    32.9    14.6    1.04  \n",
      "12    34.7    12.7   -2.62  \n",
      "13    42.8     9.0   -6.58  \n",
      "14    33.7    12.7   -0.72  \n",
      "15    37.1    16.3   -5.75  \n",
      "16    34.5    17.0   -0.49  \n",
      "17    34.5    14.1   -3.98  \n",
      "\n",
      "[18 rows x 47 columns]\n"
     ]
    }
   ],
   "source": [
    "#Subset Data to 2019\n",
    "data=data.iloc[0:18]\n",
    "print(data)"
   ]
  },
  {
   "cell_type": "code",
   "execution_count": 52,
   "metadata": {},
   "outputs": [
    {
     "data": {
      "text/plain": [
       "Tm          1.000000\n",
       "Pass Y/A    0.428956\n",
       "Cmp%        0.461774\n",
       "qBRate      0.552706\n",
       "RUSH Y/A    0.469184\n",
       "3DAtt       0.482738\n",
       "4DAtt       0.502788\n",
       "Name: Tm, dtype: float64"
      ]
     },
     "execution_count": 52,
     "metadata": {},
     "output_type": "execute_result"
    }
   ],
   "source": [
    "corr = data.corr()\n",
    "corr.head()\n",
    "#Correlation with output variable\n",
    "cor_target = abs(corr[\"Tm\"])\n",
    "#Selecting highly correlated features\n",
    "relevant_features = cor_target[cor_target>.4]\n",
    "relevant_features"
   ]
  },
  {
   "cell_type": "markdown",
   "metadata": {},
   "source": [
    "## Most Important Features for Predicting 49ers Score in 2019: QB Rating, 3rd Down Attempts, Rush Yards Per Attempt, Comp %"
   ]
  },
  {
   "cell_type": "markdown",
   "metadata": {},
   "source": [
    "## Score Regression Equation for 2019 Data (Figure 2)"
   ]
  },
  {
   "cell_type": "code",
   "execution_count": 59,
   "metadata": {},
   "outputs": [
    {
     "name": "stdout",
     "output_type": "stream",
     "text": [
      "Score: 0.4388430068976401\n",
      "intercept: [14.64774963]\n",
      "49ers: [[ 0.13049058 -0.98543987  1.14450736  0.13495023]]\n"
     ]
    }
   ],
   "source": [
    "X=data[['qBRate','3DAtt','RUSH Y/A','Cmp%']]\n",
    "y=data[['Tm']]\n",
    "\n",
    "\n",
    "lm = linear_model.LinearRegression()\n",
    "model = lm.fit(X,y)\n",
    "print('Score:', model.score(X, y))\n",
    "print('intercept:', model.intercept_)\n",
    "\n",
    "print('49ers:', model.coef_)"
   ]
  },
  {
   "cell_type": "markdown",
   "metadata": {},
   "source": [
    "## Predicting QB Rating"
   ]
  },
  {
   "cell_type": "code",
   "execution_count": 63,
   "metadata": {},
   "outputs": [
    {
     "data": {
      "text/plain": [
       "Tm           0.552706\n",
       "PassYds      0.497805\n",
       "OInt         0.427488\n",
       "Sk taken     0.319470\n",
       "Pass Y/A     0.682556\n",
       "Pass NY/A    0.724381\n",
       "Cmp%         0.697563\n",
       "qBRate       1.000000\n",
       "Att          0.287602\n",
       "RUSH Y/A     0.406866\n",
       "3DAtt        0.303927\n",
       "PlyDef       0.263761\n",
       "Y/PDef       0.424514\n",
       "TODef        0.449635\n",
       "FLDef        0.439837\n",
       "IntDef       0.290445\n",
       "NY/ADef      0.353810\n",
       "Y/ADef       0.285080\n",
       "TO%Def       0.370213\n",
       "EXPDef       0.368205\n",
       "Name: qBRate, dtype: float64"
      ]
     },
     "execution_count": 63,
     "metadata": {},
     "output_type": "execute_result"
    }
   ],
   "source": [
    "corr = data.corr()\n",
    "corr.head()\n",
    "#Correlation with output variable\n",
    "cor_target = abs(corr[\"qBRate\"])\n",
    "#Selecting highly correlated features\n",
    "relevant_features = cor_target[cor_target>.25]\n",
    "relevant_features"
   ]
  },
  {
   "cell_type": "code",
   "execution_count": 68,
   "metadata": {},
   "outputs": [
    {
     "name": "stdout",
     "output_type": "stream",
     "text": [
      "Score: 0.36519616057844373\n",
      "intercept: [-212.11911274]\n",
      "QBR: [[-50.21299283  75.24149289   7.35700727]]\n"
     ]
    }
   ],
   "source": [
    "X=data[['TODef','Y/PDef','EXPDef']]\n",
    "y=data[['qBRate']]\n",
    "\n",
    "lm = linear_model.LinearRegression()\n",
    "model = lm.fit(X,y)\n",
    "print('Score:', model.score(X, y))\n",
    "print('intercept:', model.intercept_)\n",
    "\n",
    "print('QBR:', model.coef_)"
   ]
  },
  {
   "cell_type": "markdown",
   "metadata": {},
   "source": [
    "## Projected QBR Given Chief's Defensive Stats = 94.068752"
   ]
  },
  {
   "cell_type": "markdown",
   "metadata": {},
   "source": [
    "## Predicting 3rd Down Attempts"
   ]
  },
  {
   "cell_type": "code",
   "execution_count": 69,
   "metadata": {},
   "outputs": [
    {
     "data": {
      "text/plain": [
       "Tm           0.482738\n",
       "OCmp         0.380998\n",
       "OAtt         0.473901\n",
       "Pass Y/A     0.667516\n",
       "Pass NY/A    0.550019\n",
       "Cmp%         0.295484\n",
       "qBRate       0.303927\n",
       "rushYds      0.279558\n",
       "RUSH Y/A     0.505898\n",
       "Pnt          0.348242\n",
       "pntYds       0.352700\n",
       "3DConv       0.790207\n",
       "3DAtt        1.000000\n",
       "4DConv       0.644804\n",
       "4DAtt        0.622388\n",
       "PFDef        0.266032\n",
       "PlyDef       0.349710\n",
       "1stDDef      0.383455\n",
       "CmpDef       0.356726\n",
       "TDDef        0.506293\n",
       "IntDef       0.389192\n",
       "1stDDefP     0.277249\n",
       "1stPyDef     0.520025\n",
       "Name: 3DAtt, dtype: float64"
      ]
     },
     "execution_count": 69,
     "metadata": {},
     "output_type": "execute_result"
    }
   ],
   "source": [
    "corr = data.corr()\n",
    "corr.head()\n",
    "#Correlation with output variable\n",
    "cor_target = abs(corr[\"3DAtt\"])\n",
    "#Selecting highly correlated features\n",
    "relevant_features = cor_target[cor_target>.25]\n",
    "relevant_features"
   ]
  },
  {
   "cell_type": "code",
   "execution_count": 73,
   "metadata": {},
   "outputs": [
    {
     "name": "stdout",
     "output_type": "stream",
     "text": [
      "Score: 0.3594512768538465\n",
      "intercept: [-6.47440384]\n",
      "3rd Down Attempts: [[1.34184595 2.61741732 0.20131184 0.17785535]]\n"
     ]
    }
   ],
   "source": [
    "X=data[['TDDef','1stPyDef','IntDef','PlyDef']]\n",
    "y=data[['3DAtt']]\n",
    "\n",
    "lm = linear_model.LinearRegression()\n",
    "model = lm.fit(X,y)\n",
    "print('Score:', model.score(X, y))\n",
    "print('intercept:', model.intercept_)\n",
    "\n",
    "print('3rd Down Attempts:', model.coef_)"
   ]
  },
  {
   "cell_type": "markdown",
   "metadata": {},
   "source": [
    "## Projected 3rd Down Attempts Given Chief's Defense = 13.467393"
   ]
  },
  {
   "cell_type": "markdown",
   "metadata": {},
   "source": [
    "## Predicting Rush Yards Per Attempt"
   ]
  },
  {
   "cell_type": "code",
   "execution_count": 72,
   "metadata": {},
   "outputs": [
    {
     "data": {
      "text/plain": [
       "OAtt        0.535581\n",
       "rushYds     0.812314\n",
       "RUSH Y/A    1.000000\n",
       "3DAtt       0.505898\n",
       "PlyDef      0.609466\n",
       "CmpDef      0.652653\n",
       "TDDef       0.529295\n",
       "1stDDefP    0.585332\n",
       "Name: RUSH Y/A, dtype: float64"
      ]
     },
     "execution_count": 72,
     "metadata": {},
     "output_type": "execute_result"
    }
   ],
   "source": [
    "corr = data.corr()\n",
    "corr.head()\n",
    "#Correlation with output variable\n",
    "cor_target = abs(corr[\"RUSH Y/A\"])\n",
    "#Selecting highly correlated features\n",
    "relevant_features = cor_target[cor_target>.5]\n",
    "relevant_features"
   ]
  },
  {
   "cell_type": "code",
   "execution_count": 74,
   "metadata": {},
   "outputs": [
    {
     "name": "stdout",
     "output_type": "stream",
     "text": [
      "Score: 0.5175226589440517\n",
      "intercept: [26.83551545]\n",
      "Rush Yards/Attempt: [[ 0.3819564   0.07732942 -0.52797497 -0.23680891]]\n"
     ]
    }
   ],
   "source": [
    "X=data[['1stDDefP','TDDef','CmpDef','PlyDef']]\n",
    "y=data[['RUSH Y/A']]\n",
    "\n",
    "lm = linear_model.LinearRegression()\n",
    "model = lm.fit(X,y)\n",
    "print('Score:', model.score(X, y))\n",
    "print('intercept:', model.intercept_)\n",
    "\n",
    "print('Rush Yards/Attempt:', model.coef_)"
   ]
  },
  {
   "cell_type": "markdown",
   "metadata": {},
   "source": [
    "## Projected Rush Yards Per Attempt Given Chief's Defensive Stats = 4.4201879"
   ]
  },
  {
   "cell_type": "markdown",
   "metadata": {},
   "source": [
    "## Predicting Completion %"
   ]
  },
  {
   "cell_type": "code",
   "execution_count": 77,
   "metadata": {},
   "outputs": [
    {
     "data": {
      "text/plain": [
       "Tm           0.461774\n",
       "OCmp         0.233359\n",
       "PassYds      0.323498\n",
       "OInt         0.228409\n",
       "Sk taken     0.383621\n",
       "OYds         0.158548\n",
       "Pass Y/A     0.526085\n",
       "Pass NY/A    0.557067\n",
       "Cmp%         1.000000\n",
       "qBRate       0.697563\n",
       "rushYds      0.181496\n",
       "RUSH Y/A     0.282035\n",
       "Pnt          0.394789\n",
       "pntYds       0.426276\n",
       "3DAtt        0.295484\n",
       "4DAtt        0.236679\n",
       "TODef        0.203851\n",
       "FLDef        0.177973\n",
       "RTDDef       0.185599\n",
       "Y/ADef       0.151547\n",
       "PenDef       0.218650\n",
       "PenYdsDef    0.294998\n",
       "TO%Def       0.225437\n",
       "Name: Cmp%, dtype: float64"
      ]
     },
     "execution_count": 77,
     "metadata": {},
     "output_type": "execute_result"
    }
   ],
   "source": [
    "corr = data.corr()\n",
    "corr.head()\n",
    "#Correlation with output variable\n",
    "cor_target = abs(corr[\"Cmp%\"])\n",
    "#Selecting highly correlated features\n",
    "relevant_features = cor_target[cor_target>.15]\n",
    "relevant_features"
   ]
  },
  {
   "cell_type": "code",
   "execution_count": 78,
   "metadata": {},
   "outputs": [
    {
     "name": "stdout",
     "output_type": "stream",
     "text": [
      "Score: 0.15918540581539053\n",
      "intercept: [42.46012234]\n",
      "Completion %: [[ 0.34876852 -0.19668166  4.26464464  1.29411659]]\n"
     ]
    }
   ],
   "source": [
    "X=data[['PenYdsDef','TO%Def','RTDDef','Y/ADef']]\n",
    "y=data[['Cmp%']]\n",
    "\n",
    "lm = linear_model.LinearRegression()\n",
    "model = lm.fit(X,y)\n",
    "print('Score:', model.score(X, y))\n",
    "print('intercept:', model.intercept_)\n",
    "\n",
    "print('Completion %:', model.coef_)"
   ]
  },
  {
   "cell_type": "markdown",
   "metadata": {},
   "source": [
    "## Completion % Given Chief's Defensive Stats = 68.294288"
   ]
  },
  {
   "cell_type": "markdown",
   "metadata": {},
   "source": [
    "## 49ers Projected Score Using 2019 Projected Features With Figure 2 Regression = 27.9268"
   ]
  },
  {
   "cell_type": "markdown",
   "metadata": {},
   "source": [
    "## 49ers Projected Score Using Projected Features with Figure 1 Regression = 23.5634"
   ]
  },
  {
   "cell_type": "markdown",
   "metadata": {},
   "source": [
    "# Weighted Average Of Both 25%*23.5634 + 75%*27.9268=26.835 Or 27 Points"
   ]
  },
  {
   "cell_type": "code",
   "execution_count": null,
   "metadata": {},
   "outputs": [],
   "source": []
  }
 ],
 "metadata": {
  "kernelspec": {
   "display_name": "Python 3",
   "language": "python",
   "name": "python3"
  },
  "language_info": {
   "codemirror_mode": {
    "name": "ipython",
    "version": 3
   },
   "file_extension": ".py",
   "mimetype": "text/x-python",
   "name": "python",
   "nbconvert_exporter": "python",
   "pygments_lexer": "ipython3",
   "version": "3.7.3"
  }
 },
 "nbformat": 4,
 "nbformat_minor": 2
}
